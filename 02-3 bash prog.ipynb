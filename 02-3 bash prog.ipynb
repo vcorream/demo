{
 "cells": [
  {
   "cell_type": "markdown",
   "metadata": {},
   "source": [
    "3009768 Ciencia de los Datos Aplicada  \n",
    "Espacialización en Analítica  \n",
    "Facultad de Minas, Universidad Nacional de Colombia  \n",
    "\n",
    "# 2-3. Introducción a la interfaz de línea de comandos (Bash) -- Programación\n",
    "\n"
   ]
  },
  {
   "cell_type": "code",
   "execution_count": 1,
   "metadata": {
    "collapsed": false
   },
   "outputs": [
    {
     "name": "stdout",
     "output_type": "stream",
     "text": [
      "hola mundo\r\n"
     ]
    }
   ],
   "source": [
    "var1='hola mundo'\n",
    "echo $var1"
   ]
  },
  {
   "cell_type": "code",
   "execution_count": 2,
   "metadata": {
    "collapsed": false
   },
   "outputs": [
    {
     "name": "stdout",
     "output_type": "stream",
     "text": [
      "a b c d\r\n",
      "a b c d\r\n",
      "./demo\r\n",
      "a\r\n",
      "4\r\n"
     ]
    }
   ],
   "source": [
    "echo \"\n",
    "  echo \\$@\n",
    "  echo \\$*\n",
    "  echo \\$0\n",
    "  echo \\$1\n",
    "  echo \\$#\" > demo\n",
    "chmod +x demo\n",
    "./demo a b c d"
   ]
  },
  {
   "cell_type": "code",
   "execution_count": 3,
   "metadata": {
    "collapsed": false
   },
   "outputs": [
    {
     "name": "stdout",
     "output_type": "stream",
     "text": [
      "b\r\n"
     ]
    }
   ],
   "source": [
    "echo \"echo \\$2\" > demo\n",
    "chmod +x demo\n",
    "./demo a b c d"
   ]
  },
  {
   "cell_type": "markdown",
   "metadata": {},
   "source": [
    "### if/else\n",
    "\n",
    "<pre>\n",
    "    if <em>condition</em>   \n",
    "    then  \n",
    "        <em>statements</em>   \n",
    "    [elif  <em>condition</em>  \n",
    "        then <em>statements...</em> ]   \n",
    "    [else  \n",
    "        <em>statements</em> ]      \n",
    "    fi  \n",
    "</pre> "
   ]
  },
  {
   "cell_type": "code",
   "execution_count": 4,
   "metadata": {
    "collapsed": false
   },
   "outputs": [
    {
     "name": "stdout",
     "output_type": "stream",
     "text": [
      " --> ???\r\n"
     ]
    }
   ],
   "source": [
    "x=3\n",
    "if ((x == 1))\n",
    "then\n",
    "    echo ' --> 1'\n",
    "elif ((x == 2))\n",
    "then\n",
    "    echo ' --> 2'\n",
    "else\n",
    "    echo ' --> ???'\n",
    "fi"
   ]
  },
  {
   "cell_type": "markdown",
   "metadata": {},
   "source": [
    "### select "
   ]
  },
  {
   "cell_type": "code",
   "execution_count": 5,
   "metadata": {
    "collapsed": false
   },
   "outputs": [
    {
     "name": "stdout",
     "output_type": "stream",
     "text": [
      " --> ???\r\n"
     ]
    }
   ],
   "source": [
    "x=3\n",
    "case $x in\n",
    "    1) echo ' --> 1'   ;;\n",
    "    2) echo ' --> 2'   ;;\n",
    "    *) echo ' --> ???'\n",
    "esac"
   ]
  },
  {
   "cell_type": "markdown",
   "metadata": {},
   "source": [
    "### for"
   ]
  },
  {
   "cell_type": "code",
   "execution_count": 6,
   "metadata": {
    "collapsed": false
   },
   "outputs": [
    {
     "name": "stdout",
     "output_type": "stream",
     "text": [
      "1 2 3 4 5 "
     ]
    }
   ],
   "source": [
    "for ((i=1; i <= 5; i++))\n",
    "do\n",
    "  echo -n $i ''\n",
    "done"
   ]
  },
  {
   "cell_type": "code",
   "execution_count": 7,
   "metadata": {
    "collapsed": false
   },
   "outputs": [
    {
     "name": "stdout",
     "output_type": "stream",
     "text": [
      "2 4 6 8 10 "
     ]
    }
   ],
   "source": [
    "for ((i=1; i <= 5; i++))\n",
    "do\n",
    "  echo -n $((2*i)) ''\n",
    "done"
   ]
  },
  {
   "cell_type": "code",
   "execution_count": 8,
   "metadata": {
    "collapsed": false
   },
   "outputs": [
    {
     "name": "stdout",
     "output_type": "stream",
     "text": [
      "120\r\n"
     ]
    }
   ],
   "source": [
    "n=1\n",
    "for ((i=1; i <= 5; i++))\n",
    "do\n",
    "  n=$((n*i))\n",
    "done\n",
    "echo $n"
   ]
  },
  {
   "cell_type": "code",
   "execution_count": 9,
   "metadata": {
    "collapsed": false
   },
   "outputs": [
    {
     "name": "stdout",
     "output_type": "stream",
     "text": [
      "1 2 3 4 \r\n"
     ]
    }
   ],
   "source": [
    "fac(){\n",
    "  for ((i=1; i <= $1; i++))\n",
    "  do\n",
    "    echo -n $i ''\n",
    "  done\n",
    "  echo ''\n",
    "}\n",
    "fac 4"
   ]
  },
  {
   "cell_type": "code",
   "execution_count": 10,
   "metadata": {
    "collapsed": false
   },
   "outputs": [
    {
     "name": "stdout",
     "output_type": "stream",
     "text": [
      "01-bash.ipynb\r\n",
      "02-practica_1.ipynb\r\n",
      "03-bash_prog.ipynb\r\n",
      "cargos.txt\r\n",
      "cargos.xlsx\r\n",
      "datos.txt\r\n",
      "demo\r\n",
      "empl.txt\r\n",
      "empl0.txt\r\n",
      "filetree.jpg\r\n",
      "mult\r\n",
      "mult.txt\r\n",
      "secuence\r\n",
      "sequence\r\n",
      "sequence.R\r\n"
     ]
    }
   ],
   "source": [
    "for s in *\n",
    "do\n",
    "    echo $s\n",
    "done"
   ]
  },
  {
   "cell_type": "code",
   "execution_count": 11,
   "metadata": {
    "collapsed": false
   },
   "outputs": [
    {
     "name": "stdout",
     "output_type": "stream",
     "text": [
      "file1.txt\r\n",
      "file2.txt\r\n",
      "file3.txt\r\n",
      "file4.txt\r\n",
      "file5.txt\r\n"
     ]
    }
   ],
   "source": [
    "for x in 1 2 3 4 5\n",
    "do\n",
    "    echo file${x}.txt\n",
    "done"
   ]
  },
  {
   "cell_type": "code",
   "execution_count": 12,
   "metadata": {
    "collapsed": false
   },
   "outputs": [
    {
     "name": "stdout",
     "output_type": "stream",
     "text": [
      "file1.txt\r\n",
      "file2.txt\r\n",
      "file3.txt\r\n",
      "file4.txt\r\n",
      "file5.txt\r\n"
     ]
    }
   ],
   "source": [
    "for x in $(seq 1 5)\n",
    "do\n",
    "    echo file${x}.txt\n",
    "done"
   ]
  },
  {
   "cell_type": "code",
   "execution_count": 13,
   "metadata": {
    "collapsed": false
   },
   "outputs": [
    {
     "name": "stdout",
     "output_type": "stream",
     "text": [
      "file1.txt\r\n",
      "file2.txt\r\n",
      "file3.txt\r\n",
      "file4.txt\r\n",
      "file5.txt\r\n"
     ]
    }
   ],
   "source": [
    "for x in {1..5}\n",
    "do\n",
    "    echo file${x}.txt\n",
    "done"
   ]
  },
  {
   "cell_type": "code",
   "execution_count": 14,
   "metadata": {
    "collapsed": false
   },
   "outputs": [
    {
     "name": "stdout",
     "output_type": "stream",
     "text": [
      "2\r\n"
     ]
    }
   ],
   "source": [
    "let x=1\n",
    "let x+=1\n",
    "echo $x"
   ]
  },
  {
   "cell_type": "code",
   "execution_count": 15,
   "metadata": {
    "collapsed": false
   },
   "outputs": [
    {
     "name": "stdout",
     "output_type": "stream",
     "text": [
      "2\r\n"
     ]
    }
   ],
   "source": [
    "x=1\n",
    "x=$((x+1))\n",
    "echo $x"
   ]
  },
  {
   "cell_type": "code",
   "execution_count": 16,
   "metadata": {
    "collapsed": false
   },
   "outputs": [
    {
     "name": "stdout",
     "output_type": "stream",
     "text": [
      "1\r\n"
     ]
    }
   ],
   "source": [
    "minimum(){\n",
    "n=$1\n",
    "for x in $*\n",
    "do\n",
    "    if test $x -lt $n \n",
    "    then\n",
    "        n=$x\n",
    "    fi\n",
    "done\n",
    "echo $n\n",
    "}\n",
    "minimum 6 1 7 5 1 2  5"
   ]
  },
  {
   "cell_type": "markdown",
   "metadata": {},
   "source": [
    "### while / until"
   ]
  },
  {
   "cell_type": "code",
   "execution_count": 17,
   "metadata": {
    "collapsed": false
   },
   "outputs": [
    {
     "name": "stdout",
     "output_type": "stream",
     "text": [
      "120\r\n"
     ]
    }
   ],
   "source": [
    "r=1\n",
    "n=1\n",
    "while test $n -le 5\n",
    "do\n",
    "    r=$((r*n))\n",
    "    n=$((n+1))\n",
    "done\n",
    "echo $r"
   ]
  },
  {
   "cell_type": "code",
   "execution_count": 18,
   "metadata": {
    "collapsed": false
   },
   "outputs": [
    {
     "name": "stdout",
     "output_type": "stream",
     "text": [
      "120\r\n"
     ]
    }
   ],
   "source": [
    "r=1\n",
    "n=1\n",
    "while ((n <= 5))\n",
    "do\n",
    "    r=$((r*n))\n",
    "    n=$((n+1))\n",
    "done\n",
    "echo $r"
   ]
  },
  {
   "cell_type": "code",
   "execution_count": 19,
   "metadata": {
    "collapsed": false
   },
   "outputs": [
    {
     "name": "stdout",
     "output_type": "stream",
     "text": [
      "5 4 3 2 1 "
     ]
    }
   ],
   "source": [
    "n=5\n",
    "until ((n == 0))\n",
    "do\n",
    "    echo -n $n ''\n",
    "    n=$((n-1))\n",
    "done"
   ]
  },
  {
   "cell_type": "markdown",
   "metadata": {},
   "source": [
    "### Ejemplos complementarios"
   ]
  },
  {
   "cell_type": "code",
   "execution_count": 20,
   "metadata": {
    "collapsed": false
   },
   "outputs": [
    {
     "name": "stdout",
     "output_type": "stream",
     "text": [
      "b\r\n"
     ]
    }
   ],
   "source": [
    "names=(a b c d)\n",
    "echo ${names[1]}"
   ]
  },
  {
   "cell_type": "code",
   "execution_count": 21,
   "metadata": {
    "collapsed": false
   },
   "outputs": [
    {
     "name": "stdout",
     "output_type": "stream",
     "text": [
      "a\r\n"
     ]
    }
   ],
   "source": [
    "echo $names"
   ]
  },
  {
   "cell_type": "code",
   "execution_count": 22,
   "metadata": {
    "collapsed": false
   },
   "outputs": [
    {
     "name": "stdout",
     "output_type": "stream",
     "text": []
    }
   ],
   "source": [
    "#\n",
    "# archivo de datos CSV\n",
    "#\n",
    "cat > datos.txt <<\\EOF\n",
    "100,10,mark,AA,1,6.3\n",
    "101,10,mark,AA,2,7.5\n",
    "102,10,steve,AA,2,8.2\n",
    "103,10,mark,AA,5,1.5\n",
    "104,20,scott,AB,3,3.4\n",
    "105,20,scott,AB,5,4.9\n",
    "106,20,scott,AB,6,1.0\n",
    "107,30,chris,AC,9,2.7\n",
    "EOF"
   ]
  },
  {
   "cell_type": "code",
   "execution_count": 23,
   "metadata": {
    "collapsed": false
   },
   "outputs": [
    {
     "name": "stdout",
     "output_type": "stream",
     "text": [
      "6.3 7.5 8.2 1.5 3.4 4.9 1.0 2.7\r\n"
     ]
    }
   ],
   "source": [
    "a=$(cut -f6 -d, datos.txt)\n",
    "echo $a "
   ]
  },
  {
   "cell_type": "code",
   "execution_count": 24,
   "metadata": {
    "collapsed": false
   },
   "outputs": [
    {
     "name": "stdout",
     "output_type": "stream",
     "text": [
      "mark mark steve mark scott scott scott chris\r\n"
     ]
    }
   ],
   "source": [
    "person=$(cut -f3 -d, datos.txt)\n",
    "echo $person"
   ]
  },
  {
   "cell_type": "code",
   "execution_count": 25,
   "metadata": {
    "collapsed": false
   },
   "outputs": [
    {
     "name": "stdout",
     "output_type": "stream",
     "text": [
      "mark\r\n",
      "mark\r\n",
      "steve\r\n",
      "mark\r\n",
      "scott\r\n",
      "scott\r\n",
      "scott\r\n",
      "chris\r\n"
     ]
    }
   ],
   "source": [
    "for person in $(cut -f3 -d, datos.txt)\n",
    "do\n",
    "    echo $person\n",
    "done"
   ]
  },
  {
   "cell_type": "code",
   "execution_count": 26,
   "metadata": {
    "collapsed": false
   },
   "outputs": [
    {
     "name": "stdout",
     "output_type": "stream",
     "text": [
      "0 + 6.3\r\n",
      "0 + 6.3 + 7.5\r\n",
      "0 + 6.3 + 7.5 + 8.2\r\n",
      "0 + 6.3 + 7.5 + 8.2 + 1.5\r\n",
      "0 + 6.3 + 7.5 + 8.2 + 1.5 + 3.4\r\n",
      "0 + 6.3 + 7.5 + 8.2 + 1.5 + 3.4 + 4.9\r\n",
      "0 + 6.3 + 7.5 + 8.2 + 1.5 + 3.4 + 4.9 + 1.0\r\n",
      "0 + 6.3 + 7.5 + 8.2 + 1.5 + 3.4 + 4.9 + 1.0 + 2.7\r\n"
     ]
    }
   ],
   "source": [
    "s=0\n",
    "for x in $(cut -f6 -d, datos.txt)\n",
    "do\n",
    "    s=$(echo $s \\+ $x)\n",
    "    echo $s\n",
    "done"
   ]
  },
  {
   "cell_type": "code",
   "execution_count": 27,
   "metadata": {
    "collapsed": false
   },
   "outputs": [
    {
     "name": "stdout",
     "output_type": "stream",
     "text": [
      "6.3\r\n",
      "13.8\r\n",
      "22.0\r\n",
      "23.5\r\n",
      "26.9\r\n",
      "31.8\r\n",
      "32.8\r\n",
      "35.5\r\n"
     ]
    }
   ],
   "source": [
    "s=0\n",
    "for x in $(cut -f6 -d, datos.txt)\n",
    "do\n",
    "    s=$(echo $s \\+ $x | bc)\n",
    "    echo $s\n",
    "done"
   ]
  },
  {
   "cell_type": "code",
   "execution_count": 28,
   "metadata": {
    "collapsed": false
   },
   "outputs": [
    {
     "name": "stdout",
     "output_type": "stream",
     "text": [
      "10.4\r\n"
     ]
    }
   ],
   "source": [
    "sum(){\n",
    "s=0\n",
    "for x in $*\n",
    "do\n",
    "    s=$(echo $s \\+ $x | bc)\n",
    "done\n",
    "echo $s\n",
    "}\n",
    "sum 1.1 2.1 3.1 4.1"
   ]
  },
  {
   "cell_type": "code",
   "execution_count": 29,
   "metadata": {
    "collapsed": false
   },
   "outputs": [
    {
     "name": "stdout",
     "output_type": "stream",
     "text": [
      "6.3\r\n",
      "13.8\r\n",
      "22.0\r\n",
      "23.5\r\n",
      "26.9\r\n",
      "31.8\r\n",
      "32.8\r\n",
      "35.5\r\n"
     ]
    }
   ],
   "source": [
    "s=0\n",
    "for x in $(cut -f6 -d, datos.txt)\n",
    "do\n",
    "    s=$(echo $s  $x \\+ p | dc)\n",
    "    echo $s\n",
    "done"
   ]
  },
  {
   "cell_type": "code",
   "execution_count": 30,
   "metadata": {
    "collapsed": false
   },
   "outputs": [
    {
     "name": "stdout",
     "output_type": "stream",
     "text": [
      "---> 100,10,mark,AA,1,6.3\r\n",
      "---> 101,10,mark,AA,2,7.5\r\n",
      "---> 102,10,steve,AA,2,8.2\r\n",
      "---> 103,10,mark,AA,5,1.5\r\n",
      "---> 104,20,scott,AB,3,3.4\r\n",
      "---> 105,20,scott,AB,5,4.9\r\n",
      "---> 106,20,scott,AB,6,1.0\r\n",
      "---> 107,30,chris,AC,9,2.7\r\n"
     ]
    }
   ],
   "source": [
    "for x in $(cat datos.txt)\n",
    "do\n",
    "    echo '--->' $x\n",
    "done"
   ]
  },
  {
   "cell_type": "markdown",
   "metadata": {},
   "source": [
    "### Herramientas escritas en Python"
   ]
  },
  {
   "cell_type": "code",
   "execution_count": 31,
   "metadata": {
    "collapsed": false
   },
   "outputs": [
    {
     "name": "stdout",
     "output_type": "stream",
     "text": [
      "bash: /Users/jdvelasq/anaconda/bin:/opt/local/bin:/opt/local/sbin:/usr/local/bin:/usr/bin:/bin:/usr/sbin:/sbin:/opt/X11/bin:/Library/TeX/texbin: No such file or directory\r\n"
     ]
    }
   ],
   "source": [
    "# Path\n",
    "$PATH"
   ]
  },
  {
   "cell_type": "code",
   "execution_count": 32,
   "metadata": {
    "collapsed": false
   },
   "outputs": [
    {
     "name": "stdout",
     "output_type": "stream",
     "text": [
      "/Users/jdvelasq/anaconda/bin/python\r\n",
      "/usr/bin/python\r\n"
     ]
    }
   ],
   "source": [
    "# donde esta python instalado. \n",
    "which -a python"
   ]
  },
  {
   "cell_type": "code",
   "execution_count": 33,
   "metadata": {
    "collapsed": false
   },
   "outputs": [
    {
     "name": "stdout",
     "output_type": "stream",
     "text": [
      "Python 3.5.1 :: Anaconda 2.4.1 (x86_64)\r\n"
     ]
    }
   ],
   "source": [
    "#\n",
    "# que versión tengo?\n",
    "#\n",
    "/Users/jdvelasq/anaconda/bin/python --version"
   ]
  },
  {
   "cell_type": "code",
   "execution_count": 34,
   "metadata": {
    "collapsed": false
   },
   "outputs": [
    {
     "name": "stdout",
     "output_type": "stream",
     "text": [
      "Python 2.7.10\r\n"
     ]
    }
   ],
   "source": [
    "/usr/bin/python --version"
   ]
  },
  {
   "cell_type": "code",
   "execution_count": 35,
   "metadata": {
    "collapsed": false
   },
   "outputs": [
    {
     "name": "stdout",
     "output_type": "stream",
     "text": [
      "Python 3.5.1 :: Anaconda 2.4.1 (x86_64)\r\n"
     ]
    }
   ],
   "source": [
    "#\n",
    "# (explique la diferencia con el resultado anterior)\n",
    "#\n",
    "python --version"
   ]
  },
  {
   "cell_type": "code",
   "execution_count": 36,
   "metadata": {
    "collapsed": false
   },
   "outputs": [
    {
     "name": "stdout",
     "output_type": "stream",
     "text": [
      "1 2 3 4 5\r\n"
     ]
    }
   ],
   "source": [
    "#\n",
    "# programa en python 2.7.10 para imprimir\n",
    "# una secuencia de números\n",
    "#\n",
    "echo \"\n",
    "import sys\n",
    "x = int(sys.argv[1])\n",
    "for i in range(x):\n",
    "    print i+1,\n",
    "\" > sequence\n",
    "/usr/bin/python sequence 5"
   ]
  },
  {
   "cell_type": "code",
   "execution_count": 37,
   "metadata": {
    "collapsed": false
   },
   "outputs": [
    {
     "name": "stdout",
     "output_type": "stream",
     "text": [
      "  File \"sequence\", line 5\r\n",
      "    print i+1,\r\n",
      "          ^\r\n",
      "SyntaxError: Missing parentheses in call to 'print'\r\n"
     ]
    }
   ],
   "source": [
    "#\n",
    "# por que no corre?\n",
    "#\n",
    "python sequence 5"
   ]
  },
  {
   "cell_type": "code",
   "execution_count": 38,
   "metadata": {
    "collapsed": false
   },
   "outputs": [
    {
     "name": "stdout",
     "output_type": "stream",
     "text": [
      "1 2 3 4\r\n"
     ]
    }
   ],
   "source": [
    "#\n",
    "# note que el shebang (#!) tiene que ser la primera linea\n",
    "#\n",
    "echo \"#! /usr/bin/python\n",
    "import sys\n",
    "x = int(sys.argv[1])\n",
    "for i in range(x):\n",
    "    print i+1,\n",
    "\" > sequence\n",
    "chmod +x sequence\n",
    "./sequence 4"
   ]
  },
  {
   "cell_type": "markdown",
   "metadata": {},
   "source": [
    "### Herramientas escritas en R"
   ]
  },
  {
   "cell_type": "code",
   "execution_count": 39,
   "metadata": {
    "collapsed": false
   },
   "outputs": [
    {
     "name": "stdout",
     "output_type": "stream",
     "text": [
      "/Users/jdvelasq/anaconda/bin/Rscript\r\n",
      "/usr/local/bin/Rscript\r\n"
     ]
    }
   ],
   "source": [
    "# donde esta python instalado. \n",
    "which -a Rscript"
   ]
  },
  {
   "cell_type": "code",
   "execution_count": 40,
   "metadata": {
    "collapsed": false
   },
   "outputs": [
    {
     "name": "stdout",
     "output_type": "stream",
     "text": [
      "1 2 3 4 5"
     ]
    }
   ],
   "source": [
    "echo \"#! /usr/bin/env Rscript\n",
    "args = commandArgs(trailingOnly=TRUE)\n",
    "cat(seq(as.numeric(args)))\n",
    "\" > sequence.R\n",
    "chmod +x sequence.R\n",
    "./sequence.R 5"
   ]
  },
  {
   "cell_type": "code",
   "execution_count": 41,
   "metadata": {
    "collapsed": false
   },
   "outputs": [
    {
     "name": "stdout",
     "output_type": "stream",
     "text": [
      "1 2 3 4 5 "
     ]
    }
   ],
   "source": [
    "echo \"#! /usr/bin/env Rscript\n",
    "args = commandArgs(trailingOnly=TRUE)\n",
    "for(x in seq(as.numeric(args)))\n",
    "{\n",
    "    cat(x, ' ', sep='')\n",
    "}\n",
    "\" > sequence.R\n",
    "chmod +x sequence.R\n",
    "./sequence.R 5"
   ]
  },
  {
   "cell_type": "code",
   "execution_count": null,
   "metadata": {
    "collapsed": true
   },
   "outputs": [],
   "source": []
  },
  {
   "cell_type": "code",
   "execution_count": null,
   "metadata": {
    "collapsed": true
   },
   "outputs": [],
   "source": []
  }
 ],
 "metadata": {
  "kernelspec": {
   "display_name": "Python 3",
   "language": "python",
   "name": "python3"
  },
  "language_info": {
   "codemirror_mode": {
    "name": "ipython",
    "version": 3
   },
   "file_extension": ".py",
   "mimetype": "text/x-python",
   "name": "python",
   "nbconvert_exporter": "python",
   "pygments_lexer": "ipython3",
   "version": "3.5.1"
  }
 },
 "nbformat": 4,
 "nbformat_minor": 0
}
