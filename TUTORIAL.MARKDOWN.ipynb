{
 "cells": [
  {
   "cell_type": "markdown",
   "metadata": {},
   "source": [
    "# Tutorial para el Manejo de Markdown en Rstudio \n",
    "\n",
    "Para crear un documento pdf desde Rstudio, se debe seguir los siguientes pasos:\n",
    "\n",
    "1. Abrir Rstudio \n",
    "\n",
    "    <br>\n",
    "\n",
    "2. Dar clic en file - New file - R Markdown:\n",
    "\n",
    "    <img src=\"ingress.png\" alt=\"alt face\" height=\"500\" width=\"500\">\n",
    "    \n",
    "    <br>\n",
    "\n",
    "3. Al seleccionar R Markdown, te aparecerá la siguiente ventana:\n",
    "\n",
    "   <img src=\"documento.png\" alt=\"alt face\" height=\"500\" width=\"500\">\n",
    "\n",
    "    Seleccionas PDF y luego das Clic en OK.\n",
    "    \n",
    "     <br>\n",
    "\n",
    "4. Una vez realizado el paso anterior, se te abrirá un script como el que se presenta en la siguiente imagen:\n",
    "\n",
    "    <img src=\"script.png\" alt=\"alt face\" height=\"800\" width=\"800\">\n",
    "    \n",
    "    \n",
    "    "
   ]
  },
  {
   "cell_type": "markdown",
   "metadata": {},
   "source": []
  },
  {
   "cell_type": "code",
   "execution_count": null,
   "metadata": {
    "collapsed": true
   },
   "outputs": [],
   "source": []
  }
 ],
 "metadata": {
  "kernelspec": {
   "display_name": "R",
   "language": "R",
   "name": "ir"
  },
  "language_info": {
   "codemirror_mode": "r",
   "file_extension": ".r",
   "mimetype": "text/x-r-source",
   "name": "R",
   "pygments_lexer": "r",
   "version": "3.2.3"
  }
 },
 "nbformat": 4,
 "nbformat_minor": 0
}
